{
 "cells": [
  {
   "cell_type": "markdown",
   "id": "120d2cbd",
   "metadata": {},
   "source": [
    "1. Даны значения величины заработной платы заемщиков банка (zp) и значения их поведенческого кредитного скоринга (ks):\n",
    "zp = [35, 45, 190, 200, 40, 70, 54, 150, 120, 110],\n",
    "ks = [401, 574, 874, 919, 459, 739, 653, 902, 746, 832].\n",
    "Найдите ковариацию этих двух величин с помощью элементарных действий, а затем с помощью функции cov из numpy\n",
    "Полученные значения должны быть равны.\n",
    "Найдите коэффициент корреляции Пирсона с помощью ковариации и среднеквадратичных отклонений двух признаков,\n",
    "а затем с использованием функций из библиотек numpy и pandas."
   ]
  },
  {
   "cell_type": "code",
   "execution_count": 34,
   "id": "4b893dc8",
   "metadata": {},
   "outputs": [],
   "source": [
    "import numpy as np\n",
    "import pandas as pd\n",
    "from scipy import stats"
   ]
  },
  {
   "cell_type": "code",
   "execution_count": 16,
   "id": "a2fc1598",
   "metadata": {},
   "outputs": [
    {
     "data": {
      "text/plain": [
       "10175.37777777778"
      ]
     },
     "execution_count": 16,
     "metadata": {},
     "output_type": "execute_result"
    }
   ],
   "source": [
    "zp = np.array([35, 45, 190, 200, 40, 70, 54, 150, 120, 110])\n",
    "ks = np.array([401, 574, 874, 919, 459, 739, 653, 902, 746, 832])\n",
    "\n",
    "mzp = zp.mean()\n",
    "mks = ks.mean()\n",
    "\n",
    "cov = ((zp - mzp) * (ks - mks)).sum() / (zp.shape[0] - 1)\n",
    "cov"
   ]
  },
  {
   "cell_type": "code",
   "execution_count": 17,
   "id": "78f6d45a",
   "metadata": {},
   "outputs": [
    {
     "data": {
      "text/plain": [
       "array([[ 3882.93333333, 10175.37777778],\n",
       "       [10175.37777778, 33854.32222222]])"
      ]
     },
     "execution_count": 17,
     "metadata": {},
     "output_type": "execute_result"
    }
   ],
   "source": [
    "cov = np.cov(zp, ks, ddof=1)\n",
    "cov"
   ]
  },
  {
   "cell_type": "code",
   "execution_count": 18,
   "id": "272411f7",
   "metadata": {},
   "outputs": [
    {
     "data": {
      "text/plain": [
       "array([[0.37629669, 0.9861001 ],\n",
       "       [0.9861001 , 3.28083648]])"
      ]
     },
     "execution_count": 18,
     "metadata": {},
     "output_type": "execute_result"
    }
   ],
   "source": [
    "corr = cov / (zp.std() * ks.std())\n",
    "corr"
   ]
  },
  {
   "cell_type": "code",
   "execution_count": 19,
   "id": "7d54a6d9",
   "metadata": {},
   "outputs": [
    {
     "data": {
      "text/plain": [
       "array([[1.        , 0.88749009],\n",
       "       [0.88749009, 1.        ]])"
      ]
     },
     "execution_count": 19,
     "metadata": {},
     "output_type": "execute_result"
    }
   ],
   "source": [
    "np.corrcoef(zp, ks)"
   ]
  },
  {
   "cell_type": "code",
   "execution_count": 23,
   "id": "3febccda",
   "metadata": {},
   "outputs": [
    {
     "data": {
      "text/html": [
       "<div>\n",
       "<style scoped>\n",
       "    .dataframe tbody tr th:only-of-type {\n",
       "        vertical-align: middle;\n",
       "    }\n",
       "\n",
       "    .dataframe tbody tr th {\n",
       "        vertical-align: top;\n",
       "    }\n",
       "\n",
       "    .dataframe thead th {\n",
       "        text-align: right;\n",
       "    }\n",
       "</style>\n",
       "<table border=\"1\" class=\"dataframe\">\n",
       "  <thead>\n",
       "    <tr style=\"text-align: right;\">\n",
       "      <th></th>\n",
       "      <th>zp_p</th>\n",
       "      <th>ks_p</th>\n",
       "    </tr>\n",
       "  </thead>\n",
       "  <tbody>\n",
       "    <tr>\n",
       "      <th>zp_p</th>\n",
       "      <td>1.00000</td>\n",
       "      <td>0.88749</td>\n",
       "    </tr>\n",
       "    <tr>\n",
       "      <th>ks_p</th>\n",
       "      <td>0.88749</td>\n",
       "      <td>1.00000</td>\n",
       "    </tr>\n",
       "  </tbody>\n",
       "</table>\n",
       "</div>"
      ],
      "text/plain": [
       "         zp_p     ks_p\n",
       "zp_p  1.00000  0.88749\n",
       "ks_p  0.88749  1.00000"
      ]
     },
     "execution_count": 23,
     "metadata": {},
     "output_type": "execute_result"
    }
   ],
   "source": [
    "zp_p = pd.Series([35, 45, 190, 200, 40, 70, 54, 150, 120, 110])\n",
    "ks_p = pd.Series([401, 574, 874, 919, 459, 739, 653, 902, 746, 832])\n",
    "pd_dataframe = pd.DataFrame({'zp_p': zp_p, 'ks_p': ks_p})\n",
    "pd_dataframe.corr(method='pearson')"
   ]
  },
  {
   "cell_type": "markdown",
   "id": "0ad7549c",
   "metadata": {},
   "source": [
    "Question: не понимаю почему numpy и pandas, и ручной расчет возвращают разные значения. Подумал, что может быть разница в cov, но замена параметра не помогла"
   ]
  },
  {
   "cell_type": "markdown",
   "id": "48087eb1",
   "metadata": {},
   "source": [
    "2. Измерены значения IQ выборки студентов,\n",
    "обучающихся в местных технических вузах:\n",
    "131, 125, 115, 122, 131, 115, 107, 99, 125, 111.\n",
    "Известно, что в генеральной совокупности IQ распределен нормально.\n",
    "Найдите доверительный интервал для математического ожидания с надежностью 0.95."
   ]
  },
  {
   "cell_type": "code",
   "execution_count": 24,
   "id": "eecd2b06",
   "metadata": {},
   "outputs": [],
   "source": [
    "iq = np.array([131, 125, 115, 122, 131, 115, 107, 99, 125, 111])"
   ]
  },
  {
   "cell_type": "code",
   "execution_count": 32,
   "id": "f716124d",
   "metadata": {},
   "outputs": [
    {
     "data": {
      "text/plain": [
       "(110.55608365158724, 125.64391634841274)"
      ]
     },
     "execution_count": 32,
     "metadata": {},
     "output_type": "execute_result"
    }
   ],
   "source": [
    "s_mean = iq.mean()\n",
    "n = iq.shape[0]\n",
    "se = stats.sem(iq)\n",
    "confidence = 0.95\n",
    "h = se * stats.t.ppf((1 + confidence) / 2., n-1)\n",
    "s_mean-h, s_mean+h"
   ]
  },
  {
   "cell_type": "markdown",
   "id": "a6de01c5",
   "metadata": {},
   "source": [
    "3. Известно, что рост футболистов в сборной распределен нормально\n",
    "с дисперсией генеральной совокупности, равной 25 кв.см. Объем выборки равен 27,\n",
    "среднее выборочное составляет 174.2. Найдите доверительный интервал для математического\n",
    "ожидания с надежностью 0.95."
   ]
  },
  {
   "cell_type": "code",
   "execution_count": 35,
   "id": "5d73a407",
   "metadata": {},
   "outputs": [
    {
     "data": {
      "text/plain": [
       "(164.31032937726948, 184.0896706227305)"
      ]
     },
     "execution_count": 35,
     "metadata": {},
     "output_type": "execute_result"
    }
   ],
   "source": [
    "s_mean = 174.2\n",
    "n = 27\n",
    "sd = 25\n",
    "se = sd / np.sqrt(n)\n",
    "confidence = 0.95\n",
    "h = se * stats.t.ppf((1 + confidence) / 2., n-1)\n",
    "s_mean-h, s_mean+h"
   ]
  },
  {
   "cell_type": "markdown",
   "id": "d8d6a001",
   "metadata": {},
   "source": [
    "4. Выберите тему для проектной работы по курсу Теории вероятностей и математической статистики\n",
    "и напишите ее в комментарии к Практическому заданию.\n",
    "\n",
    "Не до конца понял задание, но для моей работы будет полезна тема \"Метод главных компонент. Логистическая регрессия\"\n",
    "Что нужно далее делать?"
   ]
  },
  {
   "cell_type": "code",
   "execution_count": null,
   "id": "1215758b",
   "metadata": {},
   "outputs": [],
   "source": []
  }
 ],
 "metadata": {
  "kernelspec": {
   "display_name": "Python 3",
   "language": "python",
   "name": "python3"
  },
  "language_info": {
   "codemirror_mode": {
    "name": "ipython",
    "version": 3
   },
   "file_extension": ".py",
   "mimetype": "text/x-python",
   "name": "python",
   "nbconvert_exporter": "python",
   "pygments_lexer": "ipython3",
   "version": "3.8.8"
  }
 },
 "nbformat": 4,
 "nbformat_minor": 5
}
