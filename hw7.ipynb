{
 "cells": [
  {
   "cell_type": "code",
   "execution_count": 43,
   "id": "cf109b6c",
   "metadata": {},
   "outputs": [],
   "source": [
    "import numpy as np\n",
    "import pandas as pd\n",
    "from scipy import stats\n",
    "import itertools\n",
    "import pprint as pp\n",
    "from sklearn.linear_model import LinearRegression"
   ]
  },
  {
   "cell_type": "markdown",
   "id": "c7647e29",
   "metadata": {},
   "source": [
    "__Задача 1__ \n",
    "\n",
    "Подберите два признака (из четырёх) так, чтобы уровень линейной зависимости целевой переменной от значений этих признаков был максимальным. Другими словами, модель линейной регрессии на этих признаках должна давать наилучший результат. В качестве ответа запишите значение коэффициента детерминации для модели на этих признаках."
   ]
  },
  {
   "cell_type": "code",
   "execution_count": 27,
   "id": "03a63790",
   "metadata": {},
   "outputs": [],
   "source": [
    "X = pd.DataFrame(data=[[ 1.22401313,  2.30868478,  3.03636353,  2.69287214],\n",
    "     [-0.18757272,  1.30337355,  5.12093014,  3.46363202],\n",
    "     [-0.81094525,  1.82463398,  5.79686488,  1.86159445],\n",
    "     [ 0.75129018,  2.67392052,  3.65529809,  1.66746094],\n",
    "     [ 0.00972362,  1.97367255,  2.50594319,  1.69755173],\n",
    "     [-0.62972637,  0.77750764,  2.84124027,  4.54410559],\n",
    "     [ 2.29536229,  1.81206697,  1.95026215,  1.51874636],\n",
    "     [ 0.0920418 ,  2.26971361,  7.47708735,  2.61081203],\n",
    "     [ 2.39252799,  3.17563985,  3.61420599,  5.10773362],\n",
    "     [ 0.54983815,  2.87988651,  1.65752765,  1.59635987]])\n",
    "y = pd.DataFrame(data=[9.26193358,  9.700363  ,  8.67214805,  8.74796974,  6.18689108,\n",
    "      7.53312713,  7.57643777, 12.44965478, 14.29010746,  6.68361218])"
   ]
  },
  {
   "cell_type": "code",
   "execution_count": 61,
   "id": "21265044",
   "metadata": {},
   "outputs": [
    {
     "data": {
      "text/plain": [
       "(10, 4)"
      ]
     },
     "execution_count": 61,
     "metadata": {},
     "output_type": "execute_result"
    }
   ],
   "source": [
    "X.shape"
   ]
  },
  {
   "cell_type": "code",
   "execution_count": 37,
   "id": "930718bf",
   "metadata": {},
   "outputs": [
    {
     "data": {
      "text/plain": [
       "6"
      ]
     },
     "execution_count": 37,
     "metadata": {},
     "output_type": "execute_result"
    }
   ],
   "source": [
    "len(result)"
   ]
  },
  {
   "cell_type": "code",
   "execution_count": 77,
   "id": "c9e6031c",
   "metadata": {},
   "outputs": [],
   "source": [
    "result = {}\n",
    "for i in itertools.combinations(X.columns, 2):\n",
    "    sample = X[[i[0], i[1]]].values\n",
    "    lr = LinearRegression(fit_intercept=True).fit(sample, y)\n",
    "    result[i] = lr.score(sample, y)\n",
    "#pp.pprint(result)"
   ]
  },
  {
   "cell_type": "code",
   "execution_count": 78,
   "id": "91344254",
   "metadata": {},
   "outputs": [
    {
     "data": {
      "text/plain": [
       "(0, 2)"
      ]
     },
     "execution_count": 78,
     "metadata": {},
     "output_type": "execute_result"
    }
   ],
   "source": [
    "best = max(result, key=result.get)\n",
    "best"
   ]
  },
  {
   "cell_type": "code",
   "execution_count": 70,
   "id": "e1264d3c",
   "metadata": {},
   "outputs": [
    {
     "data": {
      "text/plain": [
       "2"
      ]
     },
     "execution_count": 70,
     "metadata": {},
     "output_type": "execute_result"
    }
   ],
   "source": [
    "l = list(best)\n",
    "len(l)"
   ]
  },
  {
   "cell_type": "markdown",
   "id": "c2ef3e64",
   "metadata": {},
   "source": [
    "Ответ: наилучшая комбинация - 1 и 2 стоблец (0,1)"
   ]
  },
  {
   "cell_type": "markdown",
   "id": "528ee099",
   "metadata": {},
   "source": [
    "__Задача 2__\n",
    "\n",
    "Является ли значимым уравнение регрессии, полученное в предыдущей задаче? В качестве ответа запишите 1, если является, и 0 иначе."
   ]
  },
  {
   "cell_type": "code",
   "execution_count": 81,
   "id": "750e9338",
   "metadata": {},
   "outputs": [
    {
     "data": {
      "text/plain": [
       "4.73741412777588"
      ]
     },
     "execution_count": 81,
     "metadata": {},
     "output_type": "execute_result"
    }
   ],
   "source": [
    "n = 10\n",
    "m = len(list(best))\n",
    "k1 = m\n",
    "k2 = n - m - 1\n",
    "d = result[best]\n",
    "alpha = 0.05\n",
    "t = stats.f.ppf(1 - alpha, k1, k2)\n",
    "t"
   ]
  },
  {
   "cell_type": "code",
   "execution_count": 82,
   "id": "bd127c0f",
   "metadata": {},
   "outputs": [
    {
     "data": {
      "text/plain": [
       "11.294439122922642"
      ]
     },
     "execution_count": 82,
     "metadata": {},
     "output_type": "execute_result"
    }
   ],
   "source": [
    "F = (d / k1) / ((1 - d) / k2)\n",
    "F"
   ]
  },
  {
   "cell_type": "markdown",
   "id": "21167251",
   "metadata": {},
   "source": [
    "Ответ: F > t, следовательно статистика попала в критическую область, уравнение регрессии признаётся значимым."
   ]
  },
  {
   "cell_type": "markdown",
   "id": "34fed5d9",
   "metadata": {},
   "source": [
    "__Задача 3__\n",
    "\n",
    "Для проведения A/B-тестирования сайта интернет-магазина были получены следующие данные: страница `A` была посещена 2509 раз, из них 77 закончились совершением покупки, страница `B` была посещена 1465 раз, 60 из них закончились совершением покупки. Является ли значимым отличие конверсии на страницах `A` и `B`? В качестве ответа запишите 1, если является, и 0 иначе."
   ]
  },
  {
   "cell_type": "code",
   "execution_count": 111,
   "id": "22163f5e",
   "metadata": {},
   "outputs": [
    {
     "data": {
      "text/plain": [
       "(0.02793292095844359, 0.03608556693806071)"
      ]
     },
     "execution_count": 111,
     "metadata": {},
     "output_type": "execute_result"
    }
   ],
   "source": [
    "n1 = 2509\n",
    "success1 = 77\n",
    "n2 = 1465\n",
    "success2 = 60\n",
    "mean1 = success1 / n1\n",
    "mean2 = success2 / n2\n",
    "std1 = ((((1 - mean1)**2)*success1) + ((-mean1**2)*(n1-success1)))/(n1-1)\n",
    "std2 = ((((1 - mean2)**2)*success2) + ((-mean2**2)*(n2-success2)))/(n2-1)\n",
    "std1, std2"
   ]
  },
  {
   "cell_type": "code",
   "execution_count": 107,
   "id": "5ed8f6ad",
   "metadata": {},
   "outputs": [
    {
     "data": {
      "text/plain": [
       "-8.653258939829225"
      ]
     },
     "execution_count": 107,
     "metadata": {},
     "output_type": "execute_result"
    }
   ],
   "source": [
    "s_delta = np.sqrt(std1 ** 2 / n1 + std2 ** 2 / n2)\n",
    "t = (mean1 - mean2) / s_delta\n",
    "t"
   ]
  },
  {
   "cell_type": "code",
   "execution_count": 102,
   "id": "65d3d3d3",
   "metadata": {},
   "outputs": [],
   "source": [
    "df = (std1 ** 2 / n1 + std2 ** 2 / n2) ** 2 / \\\n",
    "    ((std2 ** 2 / n1) ** 2 / (n1 - 1) + (std2 ** 2 / n2) ** 2 / (n2 - 1))"
   ]
  },
  {
   "cell_type": "code",
   "execution_count": 103,
   "id": "1a47f393",
   "metadata": {},
   "outputs": [
    {
     "data": {
      "text/plain": [
       "(-1.9610308230278155, 1.961030823027815)"
      ]
     },
     "execution_count": 103,
     "metadata": {},
     "output_type": "execute_result"
    }
   ],
   "source": [
    "alpha = 0.05\n",
    "\n",
    "t1 = stats.t.ppf(alpha / 2, df=df)\n",
    "t2 = stats.t.ppf(1 - alpha / 2, df=df)\n",
    "\n",
    "t1, t2"
   ]
  },
  {
   "cell_type": "markdown",
   "id": "b7a4a1bb",
   "metadata": {},
   "source": [
    "Значение статистики попало в критическую область, значит утверждение о том, что отличие конверсии между А и В является значимым - ложно.\n",
    "\n",
    "Ответ: 0"
   ]
  },
  {
   "cell_type": "markdown",
   "id": "8fdbe452",
   "metadata": {},
   "source": [
    "Вопрос: может у меня на фоне усталости что-то с понинамием математики, но ведь квадрат числа и такого же отрицительного числа в кдварате должны быть равны?\n",
    "Я когда тестировал расчет стандартного отклонения удивился, что получаю разные значения для числителя\n",
    "((((1 - mean1)**2)*success1) + ((-mean1**2)*(n1-success1)))\n",
    "((((1 - mean1)**2)*success1) + ((mean1**2)*(n1-success1)))\n",
    "почему?"
   ]
  }
 ],
 "metadata": {
  "kernelspec": {
   "display_name": "Python 3",
   "language": "python",
   "name": "python3"
  },
  "language_info": {
   "codemirror_mode": {
    "name": "ipython",
    "version": 3
   },
   "file_extension": ".py",
   "mimetype": "text/x-python",
   "name": "python",
   "nbconvert_exporter": "python",
   "pygments_lexer": "ipython3",
   "version": "3.8.8"
  }
 },
 "nbformat": 4,
 "nbformat_minor": 5
}
