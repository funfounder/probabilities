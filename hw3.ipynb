{
 "cells": [
  {
   "cell_type": "code",
   "execution_count": 2,
   "id": "a1779978",
   "metadata": {},
   "outputs": [],
   "source": [
    "%matplotlib inline\n",
    "import numpy as np\n",
    "import random as rnd\n",
    "import pandas as pd\n",
    "import math\n",
    "import matplotlib.pyplot as plt"
   ]
  },
  {
   "cell_type": "markdown",
   "id": "e3a2d351",
   "metadata": {},
   "source": [
    "__Задача 1__\n",
    "\n",
    "Даны значения зарплат из выборки выпускников: \n",
    "```\n",
    "100, 80, 75, 77, 89, 33, 45, 25, 65, 17, 30, 230, 24, 57, 55, 70, 75, 65, 84, 90, 150\n",
    "```\n",
    "Используя только встроенные питоновские функции и структуры данных (т.е. без библиотек `numpy`, `pandas` и др.), посчитайте (несмещённое) среднее квадратичное отклонение для данной выборки."
   ]
  },
  {
   "cell_type": "code",
   "execution_count": 3,
   "id": "1e7dbc63",
   "metadata": {},
   "outputs": [],
   "source": [
    "salaries = [100, 80, 75, 77, 89, 33, 45, 25, 65, 17, 30, 230, 24, 57, 55, 70, 75, 65, 84, 90, 150]"
   ]
  },
  {
   "cell_type": "code",
   "execution_count": 5,
   "id": "4a954543",
   "metadata": {},
   "outputs": [],
   "source": [
    "salaries_mean = sum(salaries) / len(salaries)"
   ]
  },
  {
   "cell_type": "code",
   "execution_count": 29,
   "id": "9f82a801",
   "metadata": {},
   "outputs": [],
   "source": [
    "salaries_ = []\n",
    "for i in salaries:\n",
    "    salaries_.append((i - salaries_mean) ** 2)\n",
    "\n",
    "var = sum(salaries_)/(len(salaries) - 1)"
   ]
  },
  {
   "cell_type": "code",
   "execution_count": 32,
   "id": "85457df2",
   "metadata": {},
   "outputs": [],
   "source": [
    "std = var ** 0.5"
   ]
  },
  {
   "cell_type": "code",
   "execution_count": 36,
   "id": "bb9dbb52",
   "metadata": {},
   "outputs": [
    {
     "name": "stdout",
     "output_type": "stream",
     "text": [
      "73.14285714285714\n",
      "2241.8285714285716\n",
      "47.34795213553139\n"
     ]
    }
   ],
   "source": [
    "print(salaries_mean)\n",
    "print(var)\n",
    "print(std)"
   ]
  },
  {
   "cell_type": "markdown",
   "id": "85ccdb83",
   "metadata": {},
   "source": [
    "Ответ: среднее квадратичное отклонение = 47.34795213553139"
   ]
  },
  {
   "cell_type": "markdown",
   "id": "ac57a093",
   "metadata": {},
   "source": [
    "__Задача 2__\n",
    "\n",
    "Найдите число выбросов в выборке из задачи 1. Для определения выбросов используйте методику как при построении \"усов\" в `boxplot`, однако, как и в задаче 1, пользоваться можно только встроенными функциями и структурами данных."
   ]
  },
  {
   "cell_type": "code",
   "execution_count": 38,
   "id": "eed4892b",
   "metadata": {},
   "outputs": [],
   "source": [
    "def quantile(l: list, order: float) -> float:\n",
    "    \n",
    "    l = sorted(l)\n",
    "    n = len(l)\n",
    "    \n",
    "    n_left_elements = int(n * order)\n",
    "    n_right_elements = int(n * (1 - order))\n",
    "    \n",
    "    print(n, n_left_elements, n_right_elements)\n",
    "    \n",
    "    if n_left_elements + n_right_elements == n:\n",
    "        return (l[n_left_elements - 1] + l[n_left_elements]) / 2\n",
    "    \n",
    "    else:\n",
    "        assert n_left_elements + n_right_elements == n - 1\n",
    "        \n",
    "        return l[n_left_elements]\n",
    "    \n",
    "    \n",
    "def median(l: list) -> float:\n",
    "\n",
    "    return quantile(l, 0.5)"
   ]
  },
  {
   "cell_type": "code",
   "execution_count": 42,
   "id": "823bf7c3",
   "metadata": {},
   "outputs": [
    {
     "name": "stdout",
     "output_type": "stream",
     "text": [
      "21 5 15\n",
      "21 15 5\n",
      "[230, 150]\n"
     ]
    }
   ],
   "source": [
    "q1 = quantile(salaries, 0.25)\n",
    "q2 = np.median(salaries)\n",
    "q3 = quantile(salaries, 0.75)\n",
    "iqd = q3 - q1\n",
    "boxplot_range = (q1 - 1.5 * iqd, q3 + 1.5 * iqd)\n",
    "outliers = list(filter(lambda x: not (boxplot_range[0] <= x <= boxplot_range[1]), salaries))\n",
    "print(outliers)"
   ]
  },
  {
   "cell_type": "markdown",
   "id": "56d6c8c1",
   "metadata": {},
   "source": [
    "__Задача 3__\n",
    "\n",
    "В университет на факультет A поступило 100 человек, на факультет B - 90 человек и на факультет C - 45 человек. Вероятность того, что студент с факультета A сдаст первую сессию, равна 0.6. Для студента с факультета B эта вероятность равна 0.7, а для студента с факультета C - 0.8. Случайным образом выбирается студент, сдавший первую сессию. Какое событие наиболее вероятно:\n",
    "1. студент учится на факультете A,\n",
    "2. студент учится на факультете B,\n",
    "3. студент учится на факультете C?"
   ]
  },
  {
   "cell_type": "code",
   "execution_count": 43,
   "id": "25c90f60",
   "metadata": {},
   "outputs": [
    {
     "data": {
      "text/plain": [
       "(0.425531914893617, 0.3829787234042553, 0.19148936170212766)"
      ]
     },
     "execution_count": 43,
     "metadata": {},
     "output_type": "execute_result"
    }
   ],
   "source": [
    "a = 100\n",
    "b = 90\n",
    "c = 45\n",
    "total = a + b + c\n",
    "\n",
    "p_a = a / total\n",
    "p_b = b / total\n",
    "p_c = c / total\n",
    "\n",
    "p_a, p_b, p_c"
   ]
  },
  {
   "cell_type": "code",
   "execution_count": 45,
   "id": "b19df723",
   "metadata": {},
   "outputs": [
    {
     "data": {
      "text/plain": [
       "0.5765957446808511"
      ]
     },
     "execution_count": 45,
     "metadata": {},
     "output_type": "execute_result"
    }
   ],
   "source": [
    "p_sa = 0.5\n",
    "p_sb = 0.6\n",
    "p_sc = 0.7\n",
    "\n",
    "p_full = p_sa * p_a + p_sb * p_b + p_sc * p_c\n",
    "p_full"
   ]
  },
  {
   "cell_type": "code",
   "execution_count": 60,
   "id": "a437409f",
   "metadata": {},
   "outputs": [
    {
     "data": {
      "text/plain": [
       "('B', 0.3985239852398524)"
      ]
     },
     "execution_count": 60,
     "metadata": {},
     "output_type": "execute_result"
    }
   ],
   "source": [
    "p_as = p_sa * p_a / p_full\n",
    "p_bs = p_sb * p_b / p_full\n",
    "p_cs = p_sc * p_c / p_full\n",
    "\n",
    "results = {'A':p_as , 'B':p_bs, 'C':p_cs}\n",
    "max(results.items(), key = lambda k : k[1])"
   ]
  },
  {
   "cell_type": "code",
   "execution_count": null,
   "id": "5aad26ab",
   "metadata": {},
   "outputs": [],
   "source": []
  }
 ],
 "metadata": {
  "kernelspec": {
   "display_name": "Python 3",
   "language": "python",
   "name": "python3"
  },
  "language_info": {
   "codemirror_mode": {
    "name": "ipython",
    "version": 3
   },
   "file_extension": ".py",
   "mimetype": "text/x-python",
   "name": "python",
   "nbconvert_exporter": "python",
   "pygments_lexer": "ipython3",
   "version": "3.8.8"
  }
 },
 "nbformat": 4,
 "nbformat_minor": 5
}
