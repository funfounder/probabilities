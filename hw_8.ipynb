{
 "cells": [
  {
   "cell_type": "code",
   "execution_count": 1,
   "id": "5fbc9abc",
   "metadata": {},
   "outputs": [],
   "source": [
    "import numpy as np\n",
    "import pandas as pd\n",
    "from scipy import stats\n",
    "import itertools\n",
    "import pprint as pp\n",
    "from sklearn.linear_model import LinearRegression\n",
    "from tqdm import trange\n",
    "from sklearn.linear_model import LogisticRegression"
   ]
  },
  {
   "cell_type": "markdown",
   "id": "e58470be",
   "metadata": {},
   "source": [
    "__Задача 1__\n",
    "\n",
    "Используя данные о хоккеистах (скачать можно [здесь](https://habr.com/ru/post/301340/)), проверьте, является ли среди хоккеистов из Финляндии, Норвегии и Дании значимым отличие роста. В качестве ответа запишите 1, если является, и 0 иначе."
   ]
  },
  {
   "cell_type": "code",
   "execution_count": 18,
   "id": "b50b8978",
   "metadata": {},
   "outputs": [
    {
     "data": {
      "text/html": [
       "<div>\n",
       "<style scoped>\n",
       "    .dataframe tbody tr th:only-of-type {\n",
       "        vertical-align: middle;\n",
       "    }\n",
       "\n",
       "    .dataframe tbody tr th {\n",
       "        vertical-align: top;\n",
       "    }\n",
       "\n",
       "    .dataframe thead th {\n",
       "        text-align: right;\n",
       "    }\n",
       "</style>\n",
       "<table border=\"1\" class=\"dataframe\">\n",
       "  <thead>\n",
       "    <tr style=\"text-align: right;\">\n",
       "      <th></th>\n",
       "      <th>year</th>\n",
       "      <th>country</th>\n",
       "      <th>no</th>\n",
       "      <th>name</th>\n",
       "      <th>position</th>\n",
       "      <th>side</th>\n",
       "      <th>height</th>\n",
       "      <th>weight</th>\n",
       "      <th>birth</th>\n",
       "      <th>club</th>\n",
       "      <th>age</th>\n",
       "      <th>cohort</th>\n",
       "      <th>bmi</th>\n",
       "    </tr>\n",
       "  </thead>\n",
       "  <tbody>\n",
       "    <tr>\n",
       "      <th>0</th>\n",
       "      <td>2001</td>\n",
       "      <td>RUS</td>\n",
       "      <td>10</td>\n",
       "      <td>tverdovsky oleg</td>\n",
       "      <td>D</td>\n",
       "      <td>L</td>\n",
       "      <td>185</td>\n",
       "      <td>84.0</td>\n",
       "      <td>1976-05-18</td>\n",
       "      <td>anaheim mighty ducks</td>\n",
       "      <td>24.952772</td>\n",
       "      <td>1976</td>\n",
       "      <td>24.543462</td>\n",
       "    </tr>\n",
       "    <tr>\n",
       "      <th>1</th>\n",
       "      <td>2001</td>\n",
       "      <td>RUS</td>\n",
       "      <td>2</td>\n",
       "      <td>vichnevsky vitali</td>\n",
       "      <td>D</td>\n",
       "      <td>L</td>\n",
       "      <td>188</td>\n",
       "      <td>86.0</td>\n",
       "      <td>1980-03-18</td>\n",
       "      <td>anaheim mighty ducks</td>\n",
       "      <td>21.119781</td>\n",
       "      <td>1980</td>\n",
       "      <td>24.332277</td>\n",
       "    </tr>\n",
       "    <tr>\n",
       "      <th>2</th>\n",
       "      <td>2001</td>\n",
       "      <td>RUS</td>\n",
       "      <td>26</td>\n",
       "      <td>petrochinin evgeni</td>\n",
       "      <td>D</td>\n",
       "      <td>L</td>\n",
       "      <td>182</td>\n",
       "      <td>95.0</td>\n",
       "      <td>1976-02-07</td>\n",
       "      <td>severstal cherepovetal</td>\n",
       "      <td>25.229295</td>\n",
       "      <td>1976</td>\n",
       "      <td>28.680111</td>\n",
       "    </tr>\n",
       "    <tr>\n",
       "      <th>3</th>\n",
       "      <td>2001</td>\n",
       "      <td>RUS</td>\n",
       "      <td>28</td>\n",
       "      <td>zhdan alexander</td>\n",
       "      <td>D</td>\n",
       "      <td>R</td>\n",
       "      <td>178</td>\n",
       "      <td>85.0</td>\n",
       "      <td>1971-08-28</td>\n",
       "      <td>ak bars kazan</td>\n",
       "      <td>29.675565</td>\n",
       "      <td>1971</td>\n",
       "      <td>26.827421</td>\n",
       "    </tr>\n",
       "    <tr>\n",
       "      <th>4</th>\n",
       "      <td>2001</td>\n",
       "      <td>RUS</td>\n",
       "      <td>32</td>\n",
       "      <td>orekhovsky oleg</td>\n",
       "      <td>D</td>\n",
       "      <td>R</td>\n",
       "      <td>175</td>\n",
       "      <td>88.0</td>\n",
       "      <td>1977-11-03</td>\n",
       "      <td>dynamo moscow</td>\n",
       "      <td>23.490760</td>\n",
       "      <td>1977</td>\n",
       "      <td>28.734694</td>\n",
       "    </tr>\n",
       "  </tbody>\n",
       "</table>\n",
       "</div>"
      ],
      "text/plain": [
       "   year country  no                 name position side  height  weight  \\\n",
       "0  2001     RUS  10     tverdovsky oleg         D    L     185    84.0   \n",
       "1  2001     RUS   2   vichnevsky vitali         D    L     188    86.0   \n",
       "2  2001     RUS  26  petrochinin evgeni         D    L     182    95.0   \n",
       "3  2001     RUS  28     zhdan alexander         D    R     178    85.0   \n",
       "4  2001     RUS  32     orekhovsky oleg         D    R     175    88.0   \n",
       "\n",
       "        birth                     club        age  cohort        bmi  \n",
       "0  1976-05-18    anaheim mighty ducks   24.952772    1976  24.543462  \n",
       "1  1980-03-18    anaheim mighty ducks   21.119781    1980  24.332277  \n",
       "2  1976-02-07  severstal cherepovetal   25.229295    1976  28.680111  \n",
       "3  1971-08-28           ak bars kazan   29.675565    1971  26.827421  \n",
       "4  1977-11-03           dynamo moscow   23.490760    1977  28.734694  "
      ]
     },
     "execution_count": 18,
     "metadata": {},
     "output_type": "execute_result"
    }
   ],
   "source": [
    "#загрузили данные\n",
    "df = pd.read_csv('hockey_players.csv')\n",
    "df.head()"
   ]
  },
  {
   "cell_type": "code",
   "execution_count": 19,
   "id": "5a9d49e4",
   "metadata": {
    "scrolled": false
   },
   "outputs": [
    {
     "data": {
      "text/html": [
       "<div>\n",
       "<style scoped>\n",
       "    .dataframe tbody tr th:only-of-type {\n",
       "        vertical-align: middle;\n",
       "    }\n",
       "\n",
       "    .dataframe tbody tr th {\n",
       "        vertical-align: top;\n",
       "    }\n",
       "\n",
       "    .dataframe thead th {\n",
       "        text-align: right;\n",
       "    }\n",
       "</style>\n",
       "<table border=\"1\" class=\"dataframe\">\n",
       "  <thead>\n",
       "    <tr style=\"text-align: right;\">\n",
       "      <th></th>\n",
       "      <th>year</th>\n",
       "      <th>no</th>\n",
       "      <th>height</th>\n",
       "      <th>weight</th>\n",
       "      <th>age</th>\n",
       "      <th>cohort</th>\n",
       "      <th>bmi</th>\n",
       "    </tr>\n",
       "  </thead>\n",
       "  <tbody>\n",
       "    <tr>\n",
       "      <th>count</th>\n",
       "      <td>6292.000000</td>\n",
       "      <td>6292.000000</td>\n",
       "      <td>6292.000000</td>\n",
       "      <td>6292.000000</td>\n",
       "      <td>6292.000000</td>\n",
       "      <td>6292.000000</td>\n",
       "      <td>6292.000000</td>\n",
       "    </tr>\n",
       "    <tr>\n",
       "      <th>mean</th>\n",
       "      <td>2008.556421</td>\n",
       "      <td>29.645105</td>\n",
       "      <td>183.811507</td>\n",
       "      <td>87.621662</td>\n",
       "      <td>27.280556</td>\n",
       "      <td>1981.154800</td>\n",
       "      <td>25.917179</td>\n",
       "    </tr>\n",
       "    <tr>\n",
       "      <th>std</th>\n",
       "      <td>4.593766</td>\n",
       "      <td>23.474342</td>\n",
       "      <td>5.383858</td>\n",
       "      <td>6.963876</td>\n",
       "      <td>4.276149</td>\n",
       "      <td>6.314963</td>\n",
       "      <td>1.478541</td>\n",
       "    </tr>\n",
       "    <tr>\n",
       "      <th>min</th>\n",
       "      <td>2001.000000</td>\n",
       "      <td>1.000000</td>\n",
       "      <td>165.000000</td>\n",
       "      <td>65.000000</td>\n",
       "      <td>17.642710</td>\n",
       "      <td>1963.000000</td>\n",
       "      <td>19.460881</td>\n",
       "    </tr>\n",
       "    <tr>\n",
       "      <th>25%</th>\n",
       "      <td>2005.000000</td>\n",
       "      <td>12.000000</td>\n",
       "      <td>180.000000</td>\n",
       "      <td>83.000000</td>\n",
       "      <td>24.136893</td>\n",
       "      <td>1976.000000</td>\n",
       "      <td>24.967113</td>\n",
       "    </tr>\n",
       "    <tr>\n",
       "      <th>50%</th>\n",
       "      <td>2009.000000</td>\n",
       "      <td>24.000000</td>\n",
       "      <td>183.000000</td>\n",
       "      <td>87.000000</td>\n",
       "      <td>27.013005</td>\n",
       "      <td>1981.000000</td>\n",
       "      <td>25.925926</td>\n",
       "    </tr>\n",
       "    <tr>\n",
       "      <th>75%</th>\n",
       "      <td>2013.000000</td>\n",
       "      <td>39.000000</td>\n",
       "      <td>188.000000</td>\n",
       "      <td>92.000000</td>\n",
       "      <td>30.123888</td>\n",
       "      <td>1986.000000</td>\n",
       "      <td>26.874496</td>\n",
       "    </tr>\n",
       "    <tr>\n",
       "      <th>max</th>\n",
       "      <td>2016.000000</td>\n",
       "      <td>98.000000</td>\n",
       "      <td>205.000000</td>\n",
       "      <td>117.000000</td>\n",
       "      <td>43.206023</td>\n",
       "      <td>1998.000000</td>\n",
       "      <td>30.930438</td>\n",
       "    </tr>\n",
       "  </tbody>\n",
       "</table>\n",
       "</div>"
      ],
      "text/plain": [
       "              year           no       height       weight          age  \\\n",
       "count  6292.000000  6292.000000  6292.000000  6292.000000  6292.000000   \n",
       "mean   2008.556421    29.645105   183.811507    87.621662    27.280556   \n",
       "std       4.593766    23.474342     5.383858     6.963876     4.276149   \n",
       "min    2001.000000     1.000000   165.000000    65.000000    17.642710   \n",
       "25%    2005.000000    12.000000   180.000000    83.000000    24.136893   \n",
       "50%    2009.000000    24.000000   183.000000    87.000000    27.013005   \n",
       "75%    2013.000000    39.000000   188.000000    92.000000    30.123888   \n",
       "max    2016.000000    98.000000   205.000000   117.000000    43.206023   \n",
       "\n",
       "            cohort          bmi  \n",
       "count  6292.000000  6292.000000  \n",
       "mean   1981.154800    25.917179  \n",
       "std       6.314963     1.478541  \n",
       "min    1963.000000    19.460881  \n",
       "25%    1976.000000    24.967113  \n",
       "50%    1981.000000    25.925926  \n",
       "75%    1986.000000    26.874496  \n",
       "max    1998.000000    30.930438  "
      ]
     },
     "execution_count": 19,
     "metadata": {},
     "output_type": "execute_result"
    }
   ],
   "source": [
    "#быстрая проверка\n",
    "df.describe()"
   ]
  },
  {
   "cell_type": "code",
   "execution_count": 20,
   "id": "6df5bcc2",
   "metadata": {},
   "outputs": [],
   "source": [
    "#убрали дубли, оставили только последнюю страну за которую играет хоккеист\n",
    "df_dedup = df.drop_duplicates(subset=['name', 'birth'], keep='last', inplace=False, ignore_index=False)"
   ]
  },
  {
   "cell_type": "code",
   "execution_count": 21,
   "id": "90703d75",
   "metadata": {
    "scrolled": true
   },
   "outputs": [
    {
     "data": {
      "text/html": [
       "<div>\n",
       "<style scoped>\n",
       "    .dataframe tbody tr th:only-of-type {\n",
       "        vertical-align: middle;\n",
       "    }\n",
       "\n",
       "    .dataframe tbody tr th {\n",
       "        vertical-align: top;\n",
       "    }\n",
       "\n",
       "    .dataframe thead th {\n",
       "        text-align: right;\n",
       "    }\n",
       "</style>\n",
       "<table border=\"1\" class=\"dataframe\">\n",
       "  <thead>\n",
       "    <tr style=\"text-align: right;\">\n",
       "      <th></th>\n",
       "      <th>year</th>\n",
       "      <th>no</th>\n",
       "      <th>height</th>\n",
       "      <th>weight</th>\n",
       "      <th>age</th>\n",
       "      <th>cohort</th>\n",
       "      <th>bmi</th>\n",
       "    </tr>\n",
       "  </thead>\n",
       "  <tbody>\n",
       "    <tr>\n",
       "      <th>count</th>\n",
       "      <td>3294.000000</td>\n",
       "      <td>3294.000000</td>\n",
       "      <td>3294.000000</td>\n",
       "      <td>3294.000000</td>\n",
       "      <td>3294.000000</td>\n",
       "      <td>3294.000000</td>\n",
       "      <td>3294.000000</td>\n",
       "    </tr>\n",
       "    <tr>\n",
       "      <th>mean</th>\n",
       "      <td>2008.329083</td>\n",
       "      <td>29.225562</td>\n",
       "      <td>183.894353</td>\n",
       "      <td>87.937614</td>\n",
       "      <td>27.847381</td>\n",
       "      <td>1980.365513</td>\n",
       "      <td>25.986522</td>\n",
       "    </tr>\n",
       "    <tr>\n",
       "      <th>std</th>\n",
       "      <td>5.092025</td>\n",
       "      <td>23.246428</td>\n",
       "      <td>5.476317</td>\n",
       "      <td>7.036507</td>\n",
       "      <td>4.398137</td>\n",
       "      <td>6.802670</td>\n",
       "      <td>1.481433</td>\n",
       "    </tr>\n",
       "    <tr>\n",
       "      <th>min</th>\n",
       "      <td>2001.000000</td>\n",
       "      <td>1.000000</td>\n",
       "      <td>165.000000</td>\n",
       "      <td>65.000000</td>\n",
       "      <td>17.686516</td>\n",
       "      <td>1963.000000</td>\n",
       "      <td>19.460881</td>\n",
       "    </tr>\n",
       "    <tr>\n",
       "      <th>25%</th>\n",
       "      <td>2004.000000</td>\n",
       "      <td>12.000000</td>\n",
       "      <td>180.000000</td>\n",
       "      <td>83.000000</td>\n",
       "      <td>24.672142</td>\n",
       "      <td>1975.000000</td>\n",
       "      <td>25.057360</td>\n",
       "    </tr>\n",
       "    <tr>\n",
       "      <th>50%</th>\n",
       "      <td>2007.000000</td>\n",
       "      <td>23.000000</td>\n",
       "      <td>184.000000</td>\n",
       "      <td>88.000000</td>\n",
       "      <td>27.603012</td>\n",
       "      <td>1980.000000</td>\n",
       "      <td>25.978680</td>\n",
       "    </tr>\n",
       "    <tr>\n",
       "      <th>75%</th>\n",
       "      <td>2013.000000</td>\n",
       "      <td>38.000000</td>\n",
       "      <td>188.000000</td>\n",
       "      <td>93.000000</td>\n",
       "      <td>30.819986</td>\n",
       "      <td>1985.000000</td>\n",
       "      <td>26.880935</td>\n",
       "    </tr>\n",
       "    <tr>\n",
       "      <th>max</th>\n",
       "      <td>2016.000000</td>\n",
       "      <td>97.000000</td>\n",
       "      <td>205.000000</td>\n",
       "      <td>117.000000</td>\n",
       "      <td>43.206023</td>\n",
       "      <td>1998.000000</td>\n",
       "      <td>30.930438</td>\n",
       "    </tr>\n",
       "  </tbody>\n",
       "</table>\n",
       "</div>"
      ],
      "text/plain": [
       "              year           no       height       weight          age  \\\n",
       "count  3294.000000  3294.000000  3294.000000  3294.000000  3294.000000   \n",
       "mean   2008.329083    29.225562   183.894353    87.937614    27.847381   \n",
       "std       5.092025    23.246428     5.476317     7.036507     4.398137   \n",
       "min    2001.000000     1.000000   165.000000    65.000000    17.686516   \n",
       "25%    2004.000000    12.000000   180.000000    83.000000    24.672142   \n",
       "50%    2007.000000    23.000000   184.000000    88.000000    27.603012   \n",
       "75%    2013.000000    38.000000   188.000000    93.000000    30.819986   \n",
       "max    2016.000000    97.000000   205.000000   117.000000    43.206023   \n",
       "\n",
       "            cohort          bmi  \n",
       "count  3294.000000  3294.000000  \n",
       "mean   1980.365513    25.986522  \n",
       "std       6.802670     1.481433  \n",
       "min    1963.000000    19.460881  \n",
       "25%    1975.000000    25.057360  \n",
       "50%    1980.000000    25.978680  \n",
       "75%    1985.000000    26.880935  \n",
       "max    1998.000000    30.930438  "
      ]
     },
     "execution_count": 21,
     "metadata": {},
     "output_type": "execute_result"
    }
   ],
   "source": [
    "df_dedup.describe()"
   ]
  },
  {
   "cell_type": "code",
   "execution_count": 22,
   "id": "506c7012",
   "metadata": {
    "scrolled": false
   },
   "outputs": [
    {
     "data": {
      "text/html": [
       "<div>\n",
       "<style scoped>\n",
       "    .dataframe tbody tr th:only-of-type {\n",
       "        vertical-align: middle;\n",
       "    }\n",
       "\n",
       "    .dataframe tbody tr th {\n",
       "        vertical-align: top;\n",
       "    }\n",
       "\n",
       "    .dataframe thead th {\n",
       "        text-align: right;\n",
       "    }\n",
       "</style>\n",
       "<table border=\"1\" class=\"dataframe\">\n",
       "  <thead>\n",
       "    <tr style=\"text-align: right;\">\n",
       "      <th></th>\n",
       "      <th>year</th>\n",
       "      <th>country</th>\n",
       "      <th>no</th>\n",
       "      <th>name</th>\n",
       "      <th>position</th>\n",
       "      <th>side</th>\n",
       "      <th>height</th>\n",
       "      <th>weight</th>\n",
       "      <th>birth</th>\n",
       "      <th>club</th>\n",
       "      <th>age</th>\n",
       "      <th>cohort</th>\n",
       "      <th>bmi</th>\n",
       "    </tr>\n",
       "  </thead>\n",
       "  <tbody>\n",
       "    <tr>\n",
       "      <th>0</th>\n",
       "      <td>2001</td>\n",
       "      <td>RUS</td>\n",
       "      <td>10</td>\n",
       "      <td>tverdovsky oleg</td>\n",
       "      <td>D</td>\n",
       "      <td>L</td>\n",
       "      <td>185</td>\n",
       "      <td>84.0</td>\n",
       "      <td>1976-05-18</td>\n",
       "      <td>anaheim mighty ducks</td>\n",
       "      <td>24.952772</td>\n",
       "      <td>1976</td>\n",
       "      <td>24.543462</td>\n",
       "    </tr>\n",
       "    <tr>\n",
       "      <th>1</th>\n",
       "      <td>2001</td>\n",
       "      <td>RUS</td>\n",
       "      <td>2</td>\n",
       "      <td>vichnevsky vitali</td>\n",
       "      <td>D</td>\n",
       "      <td>L</td>\n",
       "      <td>188</td>\n",
       "      <td>86.0</td>\n",
       "      <td>1980-03-18</td>\n",
       "      <td>anaheim mighty ducks</td>\n",
       "      <td>21.119781</td>\n",
       "      <td>1980</td>\n",
       "      <td>24.332277</td>\n",
       "    </tr>\n",
       "    <tr>\n",
       "      <th>2</th>\n",
       "      <td>2001</td>\n",
       "      <td>RUS</td>\n",
       "      <td>26</td>\n",
       "      <td>petrochinin evgeni</td>\n",
       "      <td>D</td>\n",
       "      <td>L</td>\n",
       "      <td>182</td>\n",
       "      <td>95.0</td>\n",
       "      <td>1976-02-07</td>\n",
       "      <td>severstal cherepovetal</td>\n",
       "      <td>25.229295</td>\n",
       "      <td>1976</td>\n",
       "      <td>28.680111</td>\n",
       "    </tr>\n",
       "    <tr>\n",
       "      <th>4</th>\n",
       "      <td>2001</td>\n",
       "      <td>RUS</td>\n",
       "      <td>32</td>\n",
       "      <td>orekhovsky oleg</td>\n",
       "      <td>D</td>\n",
       "      <td>R</td>\n",
       "      <td>175</td>\n",
       "      <td>88.0</td>\n",
       "      <td>1977-11-03</td>\n",
       "      <td>dynamo moscow</td>\n",
       "      <td>23.490760</td>\n",
       "      <td>1977</td>\n",
       "      <td>28.734694</td>\n",
       "    </tr>\n",
       "    <tr>\n",
       "      <th>6</th>\n",
       "      <td>2001</td>\n",
       "      <td>RUS</td>\n",
       "      <td>6</td>\n",
       "      <td>evstafiev andrei</td>\n",
       "      <td>D</td>\n",
       "      <td>L</td>\n",
       "      <td>176</td>\n",
       "      <td>84.0</td>\n",
       "      <td>1972-08-09</td>\n",
       "      <td>lokomotiv yaroslavl</td>\n",
       "      <td>28.725530</td>\n",
       "      <td>1972</td>\n",
       "      <td>27.117769</td>\n",
       "    </tr>\n",
       "  </tbody>\n",
       "</table>\n",
       "</div>"
      ],
      "text/plain": [
       "   year country  no                 name position side  height  weight  \\\n",
       "0  2001     RUS  10     tverdovsky oleg         D    L     185    84.0   \n",
       "1  2001     RUS   2   vichnevsky vitali         D    L     188    86.0   \n",
       "2  2001     RUS  26  petrochinin evgeni         D    L     182    95.0   \n",
       "4  2001     RUS  32     orekhovsky oleg         D    R     175    88.0   \n",
       "6  2001     RUS   6    evstafiev andrei         D    L     176    84.0   \n",
       "\n",
       "        birth                     club        age  cohort        bmi  \n",
       "0  1976-05-18    anaheim mighty ducks   24.952772    1976  24.543462  \n",
       "1  1980-03-18    anaheim mighty ducks   21.119781    1980  24.332277  \n",
       "2  1976-02-07  severstal cherepovetal   25.229295    1976  28.680111  \n",
       "4  1977-11-03           dynamo moscow   23.490760    1977  28.734694  \n",
       "6  1972-08-09     lokomotiv yaroslavl   28.725530    1972  27.117769  "
      ]
     },
     "execution_count": 22,
     "metadata": {},
     "output_type": "execute_result"
    }
   ],
   "source": [
    "df_dedup.head()"
   ]
  },
  {
   "cell_type": "code",
   "execution_count": 26,
   "id": "ecf3f44a",
   "metadata": {},
   "outputs": [
    {
     "name": "stdout",
     "output_type": "stream",
     "text": [
      "0       RUS\n",
      "28      AUT\n",
      "47      BLR\n",
      "70      CAN\n",
      "99      CZE\n",
      "123     FIN\n",
      "149     GER\n",
      "171     ITA\n",
      "193     JPN\n",
      "216     LAT\n",
      "237     NOR\n",
      "263     SUI\n",
      "283     SVK\n",
      "306     SWE\n",
      "331     UKR\n",
      "356     USA\n",
      "590     POL\n",
      "614     SLO\n",
      "878     DEN\n",
      "1292    FRA\n",
      "1369    KAZ\n",
      "3342    HUN\n",
      "Name: country, dtype: object\n"
     ]
    }
   ],
   "source": [
    "#выяснили как закодированы страны\n",
    "print(df_dedup.drop_duplicates(subset='country')['country'])"
   ]
  },
  {
   "cell_type": "code",
   "execution_count": 42,
   "id": "64329705",
   "metadata": {},
   "outputs": [],
   "source": [
    "#собрали росты в три отдельные выборки\n",
    "fin = df_dedup.loc[df_dedup['country'] == 'FIN']['height'].values\n",
    "nor = df_dedup.loc[df_dedup['country'] == 'NOR']['height'].values\n",
    "den = df_dedup.loc[df_dedup['country'] == 'DEN']['height'].values"
   ]
  },
  {
   "cell_type": "code",
   "execution_count": 43,
   "id": "0087cc22",
   "metadata": {},
   "outputs": [],
   "source": [
    "#размеры выборок\n",
    "fin_n = fin.shape[0]\n",
    "nor_n = nor.shape[0]\n",
    "den_n = den.shape[0]"
   ]
  },
  {
   "cell_type": "code",
   "execution_count": 53,
   "id": "6690b881",
   "metadata": {},
   "outputs": [
    {
     "data": {
      "text/plain": [
       "(184.4278606965174, 182.80612244897958, 184.37313432835822)"
      ]
     },
     "execution_count": 53,
     "metadata": {},
     "output_type": "execute_result"
    }
   ],
   "source": [
    "#средние по выборке\n",
    "fin_mean = fin.mean()\n",
    "nor_mean = nor.mean()\n",
    "den_mean = den.mean()\n",
    "\n",
    "fin_mean, nor_mean, den_mean"
   ]
  },
  {
   "cell_type": "code",
   "execution_count": 46,
   "id": "27075dff",
   "metadata": {},
   "outputs": [],
   "source": [
    "#собрали общую выборку и получили ее среднее\n",
    "y = np.concatenate([fin, nor, den])\n",
    "y_mean = y.mean()"
   ]
  },
  {
   "cell_type": "code",
   "execution_count": 47,
   "id": "fd44fe97",
   "metadata": {},
   "outputs": [
    {
     "data": {
      "text/plain": [
       "(194.30269154299393, 10985.863590212204)"
      ]
     },
     "execution_count": 47,
     "metadata": {},
     "output_type": "execute_result"
    }
   ],
   "source": [
    "#получили значения ssb & ssw\n",
    "SS_b = fin_n * (fin_mean - y_mean) ** 2 + nor_n * (nor_mean - y_mean) ** 2 + den_n * (den_mean - y_mean) ** 2\n",
    "\n",
    "SS_w = ((fin - fin_mean) ** 2).sum() + ((nor - nor_mean) ** 2).sum() + ((den - den_mean) ** 2).sum()\n",
    "\n",
    "SS_b, SS_w"
   ]
  },
  {
   "cell_type": "code",
   "execution_count": 50,
   "id": "a46062ec",
   "metadata": {},
   "outputs": [
    {
     "data": {
      "text/plain": [
       "(97.15134577149696, 25.548519977237685)"
      ]
     },
     "execution_count": 50,
     "metadata": {},
     "output_type": "execute_result"
    }
   ],
   "source": [
    "#получили оценку дисперсии\n",
    "k = 3\n",
    "n = fin_n + nor_n + den_n\n",
    "\n",
    "k1 = k - 1\n",
    "k2 = n - k\n",
    "\n",
    "sigma2_b = SS_b / k1\n",
    "sigma2_w = SS_w / k2\n",
    "\n",
    "sigma2_b, sigma2_w"
   ]
  },
  {
   "cell_type": "code",
   "execution_count": 51,
   "id": "8a0dd903",
   "metadata": {},
   "outputs": [
    {
     "data": {
      "text/plain": [
       "3.8026212813131024"
      ]
     },
     "execution_count": 51,
     "metadata": {},
     "output_type": "execute_result"
    }
   ],
   "source": [
    "#получили f-статистику\n",
    "F = sigma2_b / sigma2_w\n",
    "F"
   ]
  },
  {
   "cell_type": "code",
   "execution_count": 52,
   "id": "ef93f60f",
   "metadata": {},
   "outputs": [
    {
     "data": {
      "text/plain": [
       "3.016700272452327"
      ]
     },
     "execution_count": 52,
     "metadata": {},
     "output_type": "execute_result"
    }
   ],
   "source": [
    "#нашли критическую область\n",
    "alpha = 0.05\n",
    "\n",
    "t = stats.f.ppf(1 - alpha, k1, k2)\n",
    "t"
   ]
  },
  {
   "cell_type": "code",
   "execution_count": 54,
   "id": "87501df3",
   "metadata": {},
   "outputs": [
    {
     "data": {
      "text/plain": [
       "F_onewayResult(statistic=3.8026212813130664, pvalue=0.023066247867524335)"
      ]
     },
     "execution_count": 54,
     "metadata": {},
     "output_type": "execute_result"
    }
   ],
   "source": [
    "#сравнили с scipy\n",
    "stats.f_oneway(fin, nor, den)"
   ]
  },
  {
   "cell_type": "markdown",
   "id": "98b5e29e",
   "metadata": {},
   "source": [
    "__Ответ:__\n",
    "\n",
    "Низкое значение p-value подтверждает, что 0 гипотеза (отличие среднего роста хоккейстов значимо) - верно, это так же подтверждается тем, что статистика попала в критическую область 3.80 > 3.01"
   ]
  }
 ],
 "metadata": {
  "kernelspec": {
   "display_name": "Python 3",
   "language": "python",
   "name": "python3"
  },
  "language_info": {
   "codemirror_mode": {
    "name": "ipython",
    "version": 3
   },
   "file_extension": ".py",
   "mimetype": "text/x-python",
   "name": "python",
   "nbconvert_exporter": "python",
   "pygments_lexer": "ipython3",
   "version": "3.8.8"
  }
 },
 "nbformat": 4,
 "nbformat_minor": 5
}
